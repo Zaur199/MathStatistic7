{
 "cells": [
  {
   "cell_type": "markdown",
   "id": "619321a2",
   "metadata": {},
   "source": [
    "Задача 1. Даны две независимые выборки. Не соблюдается условие нормальности\n",
    "- x1 380,420, 290\n",
    "- y1 140,360,200,900\n",
    "\n",
    "Сделайте вывод по результатам, полученным с помощью функции, имеются ли статистические различия между группами?"
   ]
  },
  {
   "cell_type": "markdown",
   "id": "c7dd949e",
   "metadata": {},
   "source": [
    "Решение"
   ]
  },
  {
   "cell_type": "markdown",
   "id": "143939b9",
   "metadata": {},
   "source": [
    "Так как имеются две независимые выборки и не соблюдается условие нормальности, \n",
    "то используем непарамертический тест Манна Уитни"
   ]
  },
  {
   "cell_type": "code",
   "execution_count": 2,
   "id": "7b598087",
   "metadata": {},
   "outputs": [],
   "source": [
    "import scipy.stats as stats\n",
    "import numpy as np"
   ]
  },
  {
   "cell_type": "code",
   "execution_count": 3,
   "id": "85c39685",
   "metadata": {},
   "outputs": [],
   "source": [
    "x_1 = np.array([380,420, 290])\n",
    "y_1 = np.array([140,360,200,900])\n",
    "α = 0.05"
   ]
  },
  {
   "cell_type": "code",
   "execution_count": 4,
   "id": "4f40ec7d",
   "metadata": {},
   "outputs": [
    {
     "data": {
      "text/plain": [
       "MannwhitneyuResult(statistic=8.0, pvalue=0.6285714285714286)"
      ]
     },
     "execution_count": 4,
     "metadata": {},
     "output_type": "execute_result"
    }
   ],
   "source": [
    "stats.mannwhitneyu(x_1, y_1)"
   ]
  },
  {
   "cell_type": "markdown",
   "id": "adeb9570",
   "metadata": {},
   "source": [
    "Вывод: значение pvalue>α => нулевая гипотеза принимается, что означает \n",
    "статистические различия между группами отсутствуют"
   ]
  },
  {
   "cell_type": "markdown",
   "id": "7d15146f",
   "metadata": {},
   "source": [
    "Задача 2. Исследовалось влияние препарата на уровень давления пациентов. Сначала\n",
    "измерялось давление до приема препарата, потом через 10 минут и через 30 минут. Есть\n",
    "ли статистически значимые различия между измерениями давления? В выборках не соблюдается условие нормальности.\n",
    "- 1е измерение до приема препарата: 150, 160, 165, 145, 155\n",
    "- 2е измерение через 10 минут: 140, 155, 150, 130, 135\n",
    "- 3е измерение через 30 минут: 130, 130, 120, 130, 125"
   ]
  },
  {
   "cell_type": "markdown",
   "id": "22ba74c0",
   "metadata": {},
   "source": [
    "Решение"
   ]
  },
  {
   "cell_type": "markdown",
   "id": "2a69f92c",
   "metadata": {},
   "source": [
    "Так как имеются три зависимые выборки и не соблюдается условие нормальности, то используем \n",
    "непарамертический тест Фридмана"
   ]
  },
  {
   "cell_type": "code",
   "execution_count": 5,
   "id": "bbaad382",
   "metadata": {},
   "outputs": [],
   "source": [
    "x1 = np.array([150, 160, 165, 145, 155])\n",
    "y1 = np.array([140, 155, 150, 130, 135])\n",
    "z1 = np.array([130, 130, 120, 130, 125])\n",
    "α = 0.05"
   ]
  },
  {
   "cell_type": "code",
   "execution_count": 8,
   "id": "a74007d8",
   "metadata": {},
   "outputs": [
    {
     "data": {
      "text/plain": [
       "FriedmanchisquareResult(statistic=9.578947368421062, pvalue=0.00831683351100441)"
      ]
     },
     "execution_count": 8,
     "metadata": {},
     "output_type": "execute_result"
    }
   ],
   "source": [
    "stats.friedmanchisquare(x1, y1, z1)"
   ]
  },
  {
   "cell_type": "markdown",
   "id": "d1daa515",
   "metadata": {},
   "source": [
    "Вывод: значение pvalue<α => нулевая гипотеза отвергается, что означает \n",
    "статистические различия между измерениями давления имеют место быть"
   ]
  },
  {
   "cell_type": "markdown",
   "id": "bb0dc066",
   "metadata": {},
   "source": [
    "Задача 3. Сравните 1 и 2 е измерения, предполагая, что 3го измерения через 30 минут не было. Есть\n",
    "ли статистически значимые различия между измерениями давления?"
   ]
  },
  {
   "cell_type": "markdown",
   "id": "d111eccc",
   "metadata": {},
   "source": [
    "Решение"
   ]
  },
  {
   "cell_type": "markdown",
   "id": "fce316e4",
   "metadata": {},
   "source": [
    "Так как имеются две зависимые выборки и не соблюдается условие нормальности, \n",
    "то используем непарамертический тест Уилкоксона"
   ]
  },
  {
   "cell_type": "code",
   "execution_count": 13,
   "id": "a4be8486",
   "metadata": {},
   "outputs": [],
   "source": [
    "x_first = np.array([50, 160, 165, 145, 155])\n",
    "x_second = np.array([140, 155, 150, 130, 135])\n",
    "α = 0.05"
   ]
  },
  {
   "cell_type": "code",
   "execution_count": 14,
   "id": "0ba6733f",
   "metadata": {},
   "outputs": [
    {
     "data": {
      "text/plain": [
       "WilcoxonResult(statistic=5.0, pvalue=0.625)"
      ]
     },
     "execution_count": 14,
     "metadata": {},
     "output_type": "execute_result"
    }
   ],
   "source": [
    "stats.wilcoxon(x_first, x_second)"
   ]
  },
  {
   "cell_type": "markdown",
   "id": "8ae42995",
   "metadata": {},
   "source": [
    "Вывод: значение pvalue>α => нулевая гипотеза принимается, что означает статистические различия между \n",
    "измерениями давления отсутствуют"
   ]
  },
  {
   "cell_type": "markdown",
   "id": "16ebb4d5",
   "metadata": {},
   "source": [
    "Задача 4. Даны 3 группы учеников плавания. Не соблюдается условие нормальности.\n",
    "В 1 группе время на дистанцию 50 м составляют:\n",
    "- 56, 60, 62, 55, 71, 67, 59, 58, 64, 67\n",
    "- Вторая группа : 57, 58, 69, 48, 72, 70, 68, 71, 50, 53\n",
    "- Третья группа: 57, 67, 49, 48, 47, 55, 66, 51, 54\n",
    "\n",
    "Есть ли статистически значимые различия между группами?"
   ]
  },
  {
   "cell_type": "markdown",
   "id": "977d9285",
   "metadata": {},
   "source": [
    "Решение"
   ]
  },
  {
   "cell_type": "markdown",
   "id": "d477e9aa",
   "metadata": {},
   "source": [
    "Так как имеются три независимые выборки и не соблюдается условие нормальности, то \n",
    "используем непарамертический тест Крускала-Уоллиса"
   ]
  },
  {
   "cell_type": "code",
   "execution_count": 15,
   "id": "75c0188c",
   "metadata": {},
   "outputs": [],
   "source": [
    "gr_1 = np.array([56, 60, 62, 55, 71, 67, 59, 58, 64, 67])\n",
    "gr_2 = np.array([57, 58, 69, 48, 72, 70, 68, 71, 50, 53])\n",
    "gr_3 = np.array([57, 67, 49, 48, 47, 55, 66, 51, 54])\n",
    "α = 0.05"
   ]
  },
  {
   "cell_type": "code",
   "execution_count": 16,
   "id": "f7b89a98",
   "metadata": {},
   "outputs": [
    {
     "data": {
      "text/plain": [
       "KruskalResult(statistic=5.465564058257224, pvalue=0.0650380998590494)"
      ]
     },
     "execution_count": 16,
     "metadata": {},
     "output_type": "execute_result"
    }
   ],
   "source": [
    "stats.kruskal(gr_1, gr_2, gr_3)"
   ]
  },
  {
   "cell_type": "markdown",
   "id": "93121cd7",
   "metadata": {},
   "source": [
    "Вывод: значение pvalue>α => нулевая гипотеза принимается, что означает статистические \n",
    "различия между группами отсутствуют"
   ]
  },
  {
   "cell_type": "markdown",
   "id": "102f03bd",
   "metadata": {},
   "source": [
    "Задача 5. Заявляется, что партия изготавливается со средним арифметическим 2,5 см. Проверить\n",
    "данную гипотезу, если известно, что размеры изделий подчинены нормальному закону\n",
    "распределения. Объем выборки 10, уровень статистической значимости 5%\n",
    "2.51, 2.35, 2.74, 2.56, 2.40, 2.36, 2.65, 2.7, 2.67, 2.34"
   ]
  },
  {
   "cell_type": "markdown",
   "id": "afd44bc1",
   "metadata": {},
   "source": [
    "Решение"
   ]
  },
  {
   "cell_type": "code",
   "execution_count": 19,
   "id": "1ad5bfb1",
   "metadata": {},
   "outputs": [],
   "source": [
    "x = np.array([2.51, 2.35, 2.74, 2.56, 2.40, 2.36, 2.65, 2.7, 2.67, 2.34])\n",
    "α = 0.05\n",
    "n = 10\n",
    "x_mean = 2.5"
   ]
  },
  {
   "cell_type": "markdown",
   "id": "4a374948",
   "metadata": {},
   "source": [
    "Так как среднее квадратичное отклонение генеральной совокупности неизвестно, то \n",
    "используем критерий Стьюдента"
   ]
  },
  {
   "cell_type": "code",
   "execution_count": 27,
   "id": "dad828a6",
   "metadata": {},
   "outputs": [
    {
     "name": "stdout",
     "output_type": "stream",
     "text": [
      "Доверительный интервал - (2.3875071095954667, 2.6124928904045333]\n",
      "-2.262157162740992\n"
     ]
    }
   ],
   "source": [
    "x_std = np.std(x, ddof=1)\n",
    "t_cr = stats.t.ppf(α/2, df=n-1)\n",
    "L = x_mean - t_cr*x_std/n**0.5#нижняя граница интервала\n",
    "U = x_mean + t_cr*x_std/n**0.5#верхняя граница интервала\n",
    "print(f'Доверительный интервал - ({U}, {L}]')\n",
    "print(t_cr)"
   ]
  },
  {
   "cell_type": "markdown",
   "id": "b84d1d04",
   "metadata": {},
   "source": [
    "Вывод: Так как среднее арифметическое 2,5 входит в доверительный интервaл, то гипотеза о том, что \n",
    "партия изготавливается со средним арифметическим 2,5 см не отклоняется"
   ]
  }
 ],
 "metadata": {
  "kernelspec": {
   "display_name": "Python 3 (ipykernel)",
   "language": "python",
   "name": "python3"
  },
  "language_info": {
   "codemirror_mode": {
    "name": "ipython",
    "version": 3
   },
   "file_extension": ".py",
   "mimetype": "text/x-python",
   "name": "python",
   "nbconvert_exporter": "python",
   "pygments_lexer": "ipython3",
   "version": "undefined.undefined.undefined"
  }
 },
 "nbformat": 4,
 "nbformat_minor": 5
}
